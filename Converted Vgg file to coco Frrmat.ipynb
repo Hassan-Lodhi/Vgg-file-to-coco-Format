{
 "cells": [
  {
   "cell_type": "code",
   "execution_count": 17,
   "id": "fede1a94",
   "metadata": {},
   "outputs": [],
   "source": [
    "import os\n",
    "import json"
   ]
  },
  {
   "cell_type": "code",
   "execution_count": 18,
   "id": "b316f60d",
   "metadata": {},
   "outputs": [
    {
     "data": {
      "text/plain": [
       "{'1.jpeg45602': {'filename': '1.jpeg',\n",
       "  'size': 45602,\n",
       "  'regions': [{'shape_attributes': {'name': 'rect',\n",
       "     'x': 284,\n",
       "     'y': 27,\n",
       "     'width': 365,\n",
       "     'height': 478},\n",
       "    'region_attributes': {'class': {'dog': True}}}],\n",
       "  'file_attributes': {}},\n",
       " '2.jpeg4669': {'filename': '2.jpeg',\n",
       "  'size': 4669,\n",
       "  'regions': [{'shape_attributes': {'name': 'rect',\n",
       "     'x': 6,\n",
       "     'y': 39,\n",
       "     'width': 150,\n",
       "     'height': 107},\n",
       "    'region_attributes': {'class': {'dog': True}}},\n",
       "   {'shape_attributes': {'name': 'rect',\n",
       "     'x': 160,\n",
       "     'y': 77,\n",
       "     'width': 99,\n",
       "     'height': 65},\n",
       "    'region_attributes': {'class': {'cat': True}}}],\n",
       "  'file_attributes': {}},\n",
       " '3.jpeg6828': {'filename': '3.jpeg',\n",
       "  'size': 6828,\n",
       "  'regions': [{'shape_attributes': {'name': 'rect',\n",
       "     'x': 57,\n",
       "     'y': 3,\n",
       "     'width': 186,\n",
       "     'height': 141},\n",
       "    'region_attributes': {'class': {'cat': True}}}],\n",
       "  'file_attributes': {}},\n",
       " '4.jpeg198685': {'filename': '4.jpeg',\n",
       "  'size': 198685,\n",
       "  'regions': [{'shape_attributes': {'name': 'rect',\n",
       "     'x': 85,\n",
       "     'y': 307,\n",
       "     'width': 830,\n",
       "     'height': 1442},\n",
       "    'region_attributes': {'class': {'cat': True}}}],\n",
       "  'file_attributes': {}},\n",
       " '5.jpeg54509': {'filename': '5.jpeg',\n",
       "  'size': 54509,\n",
       "  'regions': [{'shape_attributes': {'name': 'rect',\n",
       "     'x': 33,\n",
       "     'y': 65,\n",
       "     'width': 735,\n",
       "     'height': 738},\n",
       "    'region_attributes': {'class': {'dog': True}}}],\n",
       "  'file_attributes': {}},\n",
       " '6.jpeg60092': {'filename': '6.jpeg',\n",
       "  'size': 60092,\n",
       "  'regions': [{'shape_attributes': {'name': 'rect',\n",
       "     'x': 89,\n",
       "     'y': 55,\n",
       "     'width': 140,\n",
       "     'height': 190},\n",
       "    'region_attributes': {'class': {'dog': True}}},\n",
       "   {'shape_attributes': {'name': 'rect',\n",
       "     'x': 242,\n",
       "     'y': 142,\n",
       "     'width': 167,\n",
       "     'height': 115},\n",
       "    'region_attributes': {'class': {'cat': True}}}],\n",
       "  'file_attributes': {}},\n",
       " '7.jpeg394361': {'filename': '7.jpeg',\n",
       "  'size': 394361,\n",
       "  'regions': [{'shape_attributes': {'name': 'rect',\n",
       "     'x': 612,\n",
       "     'y': 192,\n",
       "     'width': 269,\n",
       "     'height': 234},\n",
       "    'region_attributes': {'class': {'dog': True}}},\n",
       "   {'shape_attributes': {'name': 'rect',\n",
       "     'x': 321,\n",
       "     'y': 252,\n",
       "     'width': 267,\n",
       "     'height': 162},\n",
       "    'region_attributes': {'class': {'cat': True}}}],\n",
       "  'file_attributes': {}}}"
      ]
     },
     "execution_count": 18,
     "metadata": {},
     "output_type": "execute_result"
    }
   ],
   "source": [
    "\n",
    "os.chdir(r'C:\\Users\\Hassan Lodhi\\Desktop\\Programmer-Force\\cat_dog')\n",
    "os.getcwd()\n",
    "\n",
    "with open('cat_dog_annotations.json') as f:\n",
    "    data = json.load(f)\n",
    "\n",
    "data['_via_img_metadata']"
   ]
  },
  {
   "cell_type": "code",
   "execution_count": 19,
   "id": "c7dc1aeb",
   "metadata": {},
   "outputs": [
    {
     "data": {
      "text/plain": [
       "dict_keys(['_via_settings', '_via_img_metadata', '_via_attributes'])"
      ]
     },
     "execution_count": 19,
     "metadata": {},
     "output_type": "execute_result"
    }
   ],
   "source": [
    "data.keys()"
   ]
  },
  {
   "cell_type": "code",
   "execution_count": 20,
   "id": "bd8c4d22",
   "metadata": {},
   "outputs": [
    {
     "data": {
      "text/plain": [
       "{'region': {'class': {'type': 'checkbox',\n",
       "   'description': '',\n",
       "   'options': {'\"\"': '', 'cat': '', 'dog': ''},\n",
       "   'default_options': {}}},\n",
       " 'file': {}}"
      ]
     },
     "execution_count": 20,
     "metadata": {},
     "output_type": "execute_result"
    }
   ],
   "source": [
    "data['_via_attributes']"
   ]
  },
  {
   "cell_type": "code",
   "execution_count": 21,
   "id": "54adc0ed",
   "metadata": {},
   "outputs": [
    {
     "data": {
      "text/plain": [
       "{'info': {'description': 'Task2 dataset',\n",
       "  'url': 'http://example.com',\n",
       "  'version': '1.0',\n",
       "  'year': 2023,\n",
       "  'contributor': 'Hassan Lodhi',\n",
       "  'date_created': '2023-03-28'},\n",
       " 'images': [{'id': 1, 'width': 365, 'height': 478, 'file_name': '1.jpeg'}],\n",
       " 'annotations': [{'id': 1,\n",
       "   'image_id': 1,\n",
       "   'category_id': 1,\n",
       "   'bbox': [284, 27, 365, 478],\n",
       "   'area': 30000,\n",
       "   'segmentation': ['polygon'],\n",
       "   'iscrowd': 0}],\n",
       " 'categories': [{'id': 1, 'name': 'dog', 'supercategory': 'animal'}]}"
      ]
     },
     "execution_count": 21,
     "metadata": {},
     "output_type": "execute_result"
    }
   ],
   "source": [
    "{\n",
    "  \"info\": {\n",
    "    \"description\": \"Task2 dataset\",\n",
    "    \"url\": \"http://example.com\",\n",
    "    \"version\": \"1.0\",\n",
    "    \"year\": 2023,\n",
    "    \"contributor\": \"Hassan Lodhi\",\n",
    "    \"date_created\": \"2023-03-28\"\n",
    "  },\n",
    "  \"images\": [\n",
    "    {\n",
    "      \"id\": 1,\n",
    "      \"width\": 365,\n",
    "      \"height\": 478,\n",
    "      \"file_name\": \"1.jpeg\"\n",
    "    },\n",
    "#     {\n",
    "#       \"id\": 2,\n",
    "#       \"width\": 150,\n",
    "#       \"height\": 107,\n",
    "#       \"file_name\": \"2.jpg\"\n",
    "#     },\n",
    "#     {\n",
    "#       \"id\": 3,\n",
    "#       \"width\": 186,\n",
    "#       \"height\": 141,\n",
    "#       \"file_name\": \"3.jpeg\"\n",
    "#     },\n",
    "#     {\n",
    "#       \"id\": 4,\n",
    "#       \"width\": 830,\n",
    "#       \"height\": 1442,\n",
    "#       \"file_name\": \"4.jpeg\"\n",
    "#     },\n",
    "#     {\n",
    "#       \"id\": 5,\n",
    "#       \"width\": 735,\n",
    "#       \"height\": 738,\n",
    "#       \"file_name\": \"5.jpeg\"\n",
    "#     },\n",
    "#     {\n",
    "#       \"id\": 6,\n",
    "#       \"width\": 140,\n",
    "#       \"height\": 190,\n",
    "#       \"file_name\": \"6.jpeg\"\n",
    "#     },\n",
    "#     {\n",
    "#       \"id\": 7,\n",
    "#       \"width\": 165,\n",
    "#       \"height\": 115,\n",
    "#       \"file_name\": \"7.jpeg\"\n",
    "#     },\n",
    "  ],\n",
    "  \"annotations\": [\n",
    "    {\n",
    "      \"id\": 1,\n",
    "      \"image_id\": 1,\n",
    "      \"category_id\": 1,\n",
    "      \"bbox\": [284, 27, 365, 478],\n",
    "      \"area\": 30000,\n",
    "      \"segmentation\": ['polygon'],\n",
    "      \"iscrowd\": 0\n",
    "    },\n",
    "#     {\n",
    "#       \"id\": 2,\n",
    "#       \"image_id\": 1,\n",
    "#       \"category_id\": 2,\n",
    "#       \"bbox\": [300, 150, 100, 100],\n",
    "#       \"area\": 10000,\n",
    "#       \"segmentation\": [],\n",
    "#       \"iscrowd\": 0\n",
    "#     },\n",
    "#     {\n",
    "#       \"id\": 3,\n",
    "#       \"image_id\": 2,\n",
    "#       \"category_id\": 1,\n",
    "#       \"bbox\": [100, 200, 150, 100],\n",
    "#       \"area\": 15000,\n",
    "#       \"segmentation\": [],\n",
    "#       \"iscrowd\": 0\n",
    "#     }\n",
    "  ],\n",
    "  \"categories\": [\n",
    "    {\n",
    "      \"id\": 1,\n",
    "      \"name\": \"dog\",\n",
    "      \"supercategory\": \"animal\"\n",
    "    },\n",
    "#     {\n",
    "#       \"id\": 2,\n",
    "#       \"name\": \"car\",\n",
    "#       \"supercategory\": \"vehicle\"\n",
    "#     }\n",
    "  ]\n",
    "}\n"
   ]
  },
  {
   "cell_type": "code",
   "execution_count": null,
   "id": "6a1a1968",
   "metadata": {},
   "outputs": [],
   "source": []
  },
  {
   "cell_type": "code",
   "execution_count": null,
   "id": "8ffc7e0e",
   "metadata": {},
   "outputs": [],
   "source": []
  }
 ],
 "metadata": {
  "kernelspec": {
   "display_name": "Python 3 (ipykernel)",
   "language": "python",
   "name": "python3"
  },
  "language_info": {
   "codemirror_mode": {
    "name": "ipython",
    "version": 3
   },
   "file_extension": ".py",
   "mimetype": "text/x-python",
   "name": "python",
   "nbconvert_exporter": "python",
   "pygments_lexer": "ipython3",
   "version": "3.9.16"
  }
 },
 "nbformat": 4,
 "nbformat_minor": 5
}
